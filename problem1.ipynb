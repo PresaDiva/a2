{
 "cells": [
  {
   "cell_type": "markdown",
   "metadata": {},
   "source": [
    "Before you turn this problem in, make sure everything runs as expected. First, **restart the kernel** (in the menubar, select Kernel$\\rightarrow$Restart) and then **run all cells** (in the menubar, select Cell$\\rightarrow$Run All).\n",
    "\n",
    "Make sure you fill in any place that says `YOUR CODE HERE` or \"YOUR ANSWER HERE\", as well as your name and collaborators below:"
   ]
  },
  {
   "cell_type": "code",
   "execution_count": null,
   "metadata": {},
   "outputs": [],
   "source": [
    "NAME = \"\"\n",
    "COLLABORATORS = \"\""
   ]
  },
  {
   "cell_type": "markdown",
   "metadata": {},
   "source": [
    "---"
   ]
  },
  {
   "cell_type": "markdown",
   "metadata": {
    "deletable": false,
    "editable": false,
    "nbgrader": {
     "cell_type": "markdown",
     "checksum": "3b4ae889a1188645dae8c8d11106323f",
     "grade": false,
     "grade_id": "jupyter",
     "locked": true,
     "schema_version": 3,
     "solution": false
    }
   },
   "source": [
    "# Python for Data Science Bootcamp\n",
    "## Assignment 2\n",
    "\n",
    "NOTE: This assignment has 4 problems.  Please write your code in the designated portion of the autograded answer cell.\n",
    "\n",
    "For this problem set, we'll be using the Jupyter notebook and nbgrader:\n",
    "\n",
    "![](jupyter.png)\n",
    "\n",
    "©2020 Luis Morales. All rights reserved. "
   ]
  },
  {
   "cell_type": "markdown",
   "metadata": {
    "deletable": false,
    "editable": false,
    "nbgrader": {
     "cell_type": "markdown",
     "checksum": "a23465174b003959278be0c776c7524c",
     "grade": false,
     "grade_id": "cell-7c27096ed0a46c7b",
     "locked": true,
     "schema_version": 3,
     "solution": false,
     "task": false
    }
   },
   "source": [
    "## Problem 1 (1 point)\n",
    "\n",
    "Create a function that checks if the input number is prime or not. Function value will be True if argument is a prime number and False otherwise."
   ]
  },
  {
   "cell_type": "code",
   "execution_count": null,
   "metadata": {
    "deletable": false,
    "nbgrader": {
     "cell_type": "code",
     "checksum": "cc10d13e5451426479f114d89f9d98d2",
     "grade": false,
     "grade_id": "is_prime",
     "locked": false,
     "schema_version": 3,
     "solution": true,
     "task": false
    }
   },
   "outputs": [],
   "source": [
    "def is_prime(num):\n",
    "    \"\"\"check if the input number is prime or not.\n",
    "    A positive integer greater than 1 which has no other factors except 1 and the number itself is called a prime number.\n",
    "    in your solution, you can consider num is already verified as a positive integer!\n",
    "    \"\"\"\n",
    "    \n",
    "    if(type(num)!=int):\n",
    "        raise ValueError('input is not an integer')\n",
    "    if(num<=0):\n",
    "        raise ValueError('input is not an integer')\n",
    "    # YOUR CODE HERE\n",
    "    raise NotImplementedError()"
   ]
  },
  {
   "cell_type": "code",
   "execution_count": null,
   "metadata": {
    "deletable": false,
    "editable": false,
    "nbgrader": {
     "cell_type": "code",
     "checksum": "3962eae6f0f7d45a4d5e7b9922e1847f",
     "grade": true,
     "grade_id": "is_prime_correct_input",
     "locked": true,
     "points": 1,
     "schema_version": 3,
     "solution": false,
     "task": false
    }
   },
   "outputs": [],
   "source": [
    "\"\"\"Check that is_prime function returns the correct output for several inputs\"\"\"\n",
    "assert is_prime(3) == True\n",
    "assert is_prime(11) == True\n",
    "assert is_prime(21) == False\n",
    "assert is_prime(1) == False"
   ]
  },
  {
   "cell_type": "markdown",
   "metadata": {
    "deletable": false,
    "editable": false,
    "nbgrader": {
     "cell_type": "markdown",
     "checksum": "f97463f90fd57668e5d372533b366cfc",
     "grade": false,
     "grade_id": "cell-7b7b8b2b7e456082",
     "locked": true,
     "schema_version": 3,
     "solution": false,
     "task": false
    }
   },
   "source": [
    "## Problem 2 (1 point)\n",
    "\n",
    "Write a function that helps identify a criminal(s) among a list of six suspects (designated A through F). The police has been conducting an investigation and they have reached the following conclusions: \n",
    "\n",
    "1. There is at least one criminal among A and B;\n",
    "2. There are at least two criminals among A, E and F;\n",
    "3. A and D can not be both criminals;\n",
    "4. B and C may be both criminals or they are both innocent;\n",
    "5. There is only one criminals in C and D;\n",
    "6. If D is innocent, E is also innocent.\n",
    "\n",
    "The output of your function must be a list of 6 integers with each digit corresponding to one of the suspects. If the \\\\(i^{th}\\\\) element of this returned list is 0 if the \\\\(i^{th}\\\\) suspect is not a criminal.  Otherwise, return a 1. "
   ]
  },
  {
   "cell_type": "code",
   "execution_count": null,
   "metadata": {
    "deletable": false,
    "nbgrader": {
     "cell_type": "code",
     "checksum": "0f46450fed86d255ff4765fab40b3d62",
     "grade": false,
     "grade_id": "whoiscriminal",
     "locked": false,
     "schema_version": 3,
     "solution": true
    }
   },
   "outputs": [],
   "source": [
    "def whoIsCriminal():\n",
    "    # YOUR CODE HERE\n",
    "    raise NotImplementedError()"
   ]
  },
  {
   "cell_type": "code",
   "execution_count": null,
   "metadata": {},
   "outputs": [],
   "source": [
    "whoIsCriminal()"
   ]
  },
  {
   "cell_type": "code",
   "execution_count": null,
   "metadata": {
    "deletable": false,
    "editable": false,
    "nbgrader": {
     "cell_type": "code",
     "checksum": "4140ad5e619bf5e618eef378d0ee4f1b",
     "grade": true,
     "grade_id": "correct_cubics",
     "locked": false,
     "points": 1,
     "schema_version": 3,
     "solution": false
    }
   },
   "outputs": [],
   "source": [
    "assert whoIsCriminal() == [1, 1, 1, 0, 0, 1]"
   ]
  },
  {
   "cell_type": "markdown",
   "metadata": {
    "deletable": false,
    "editable": false,
    "nbgrader": {
     "cell_type": "markdown",
     "checksum": "4b18f0ff066d69b336cec901db8b627a",
     "grade": false,
     "grade_id": "cell-4c6accaf71092949",
     "locked": true,
     "schema_version": 3,
     "solution": false
    }
   },
   "source": [
    "## Problem 3 (1 point)\n",
    "\n",
    "Given a list of size n, find the majority element. The majority element is the element that appears more than n/2 times.\n",
    "\n",
    "You may assume that the list is non-empty and the majority element always exist in the list."
   ]
  },
  {
   "cell_type": "code",
   "execution_count": null,
   "metadata": {
    "deletable": false,
    "nbgrader": {
     "cell_type": "code",
     "checksum": "64f1381a1f9cee82c6809145a7bb2efc",
     "grade": false,
     "grade_id": "majorityelement",
     "locked": false,
     "schema_version": 3,
     "solution": true
    }
   },
   "outputs": [],
   "source": [
    "def majorityElement(nums):\n",
    "   \n",
    "    # YOUR CODE HERE\n",
    "    raise NotImplementedError()"
   ]
  },
  {
   "cell_type": "code",
   "execution_count": null,
   "metadata": {
    "deletable": false,
    "editable": false,
    "nbgrader": {
     "cell_type": "code",
     "checksum": "452ad9955a80726c5b8d05281238f220",
     "grade": true,
     "grade_id": "checkmajorityelement",
     "locked": false,
     "points": 1,
     "schema_version": 3,
     "solution": false
    }
   },
   "outputs": [],
   "source": [
    "\"\"\"Check that majorityElement function returns the correct output\"\"\"\n",
    "assert (majorityElement([3,7,3]) == 3)\n",
    "assert (majorityElement([2,2,1,1,1,2,2]) == 2)\n",
    "assert (majorityElement([3,2,3]) == 3)\n",
    "assert (majorityElement(['abc','abc','dfdwfad']) == 'abc')\n"
   ]
  },
  {
   "cell_type": "markdown",
   "metadata": {
    "deletable": false,
    "editable": false,
    "nbgrader": {
     "cell_type": "markdown",
     "checksum": "1d8a114568e06e214dc0f4c0dc4508f9",
     "grade": false,
     "grade_id": "cell-b7d6b8583ec5a971",
     "locked": true,
     "schema_version": 3,
     "solution": false,
     "task": false
    }
   },
   "source": [
    "## Problem 4 (1 point)\n",
    "\n",
    "Write a function that encodes an input string by spliting it by the middle and reversing the two substrings."
   ]
  },
  {
   "cell_type": "code",
   "execution_count": null,
   "metadata": {
    "deletable": false,
    "nbgrader": {
     "cell_type": "code",
     "checksum": "bda9d62c68d3a73fde6dcc2503c67a6c",
     "grade": false,
     "grade_id": "encodestring",
     "locked": false,
     "schema_version": 3,
     "solution": true,
     "task": false
    }
   },
   "outputs": [],
   "source": [
    "def encodeString(ori_str):\n",
    "    # YOUR CODE HERE\n",
    "    raise NotImplementedError()"
   ]
  },
  {
   "cell_type": "code",
   "execution_count": null,
   "metadata": {
    "deletable": false,
    "editable": false,
    "nbgrader": {
     "cell_type": "code",
     "checksum": "db4321e81bd095bbdfdbb9a62fe60502",
     "grade": true,
     "grade_id": "encodestringtest",
     "locked": true,
     "points": 1,
     "schema_version": 3,
     "solution": false,
     "task": false
    }
   },
   "outputs": [],
   "source": [
    "assert encodeString('AaAaBbBb') == 'aAaAbBbB'\n",
    "assert encodeString('This line must be printed backwards and splitted in the middle.') \\\n",
    "    == 'wkcab detnirp eb tsum enil sihT.elddim eht ni dettilps dna sdra'\n",
    "assert encodeString(encodeString('This lines must be printed backwards and splitted in the middle.')) \\\n",
    "    == 'This lines must be printed backwards and splitted in the middle.'\n",
    "assert encodeString('This is a very secret message!') \\\n",
    "    == ' yrev a si sihT!egassem terces'\n",
    "assert encodeString(encodeString('This is a very secret message!')) \\\n",
    "    == 'This is a very secret message!'\n",
    "assert encodeString('Happy programming~') \\\n",
    "    == 'orp yppaH~gnimmarg'\n",
    "assert encodeString(encodeString('Happy programming~')) \\\n",
    "    == 'Happy programming~'"
   ]
  }
 ],
 "metadata": {
  "kernelspec": {
   "display_name": "Python 3",
   "language": "python",
   "name": "python3"
  },
  "language_info": {
   "codemirror_mode": {
    "name": "ipython",
    "version": 3
   },
   "file_extension": ".py",
   "mimetype": "text/x-python",
   "name": "python",
   "nbconvert_exporter": "python",
   "pygments_lexer": "ipython3",
   "version": "3.7.4"
  }
 },
 "nbformat": 4,
 "nbformat_minor": 1
}
